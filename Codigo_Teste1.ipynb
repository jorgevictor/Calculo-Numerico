{
  "nbformat": 4,
  "nbformat_minor": 0,
  "metadata": {
    "colab": {
      "provenance": [],
      "collapsed_sections": []
    },
    "kernelspec": {
      "name": "python3",
      "display_name": "Python 3"
    },
    "language_info": {
      "name": "python"
    }
  },
  "cells": [
    {
      "cell_type": "markdown",
      "source": [
        "Jorge Victor Simao de Souza 120130622\n",
        "\n",
        "\n",
        "Joao Vitor Lopes Alvarenga 120152276"
      ],
      "metadata": {
        "id": "PjKtzIimwuKC"
      }
    },
    {
      "cell_type": "code",
      "execution_count": null,
      "metadata": {
        "id": "Om3Kwo6HoGO3"
      },
      "outputs": [],
      "source": [
        "import numpy as np\n",
        "import sys\n",
        "import sympy as sym\n",
        "from matplotlib import pyplot as plt"
      ]
    },
    {
      "cell_type": "code",
      "source": [
        "import numpy as np\n",
        "from scipy.linalg import solve\n",
        "\n",
        "def jacobiano(A, b, x, n):\n",
        "\n",
        "    D = np.diag(A)\n",
        "    R = A - np.diagflat(D)\n",
        "    \n",
        "    for i in range(n):\n",
        "        x = (b - np.dot(R,x))/ D\n",
        "    return x\n"
      ],
      "metadata": {
        "id": "IyogDMiaqPAG"
      },
      "execution_count": null,
      "outputs": []
    },
    {
      "cell_type": "code",
      "source": [
        "def gaussian_elimination(A, b):\n",
        "    n = A.shape[0]\n",
        "    x = np.zeros(n)\n",
        "\n",
        "    a = np.zeros((n, n + 1))\n",
        "    for i in range(n):\n",
        "        a[:, i] = A[:, i]\n",
        "\n",
        "    a[:, n] = b.T\n",
        "\n",
        "    for i in range(n):\n",
        "        if a[i][i] == 0.0:\n",
        "            sys.exit('Divide by zero detected!')\n",
        "\n",
        "        for j in range(i + 1, n):\n",
        "            ratio = a[j][i] / a[i][i]\n",
        "\n",
        "            for k in range(n + 1):\n",
        "                a[j][k] = a[j][k] - ratio * a[i][k]\n",
        "\n",
        "    x[n - 1] = a[n - 1][n] / a[n - 1][n - 1]\n",
        "\n",
        "    for i in range(n - 2, -1, -1):\n",
        "        x[i] = a[i][n]\n",
        "\n",
        "        for j in range(i + 1, n):\n",
        "            x[i] = x[i] - a[i][j] * x[j]\n",
        "\n",
        "        x[i] = x[i] / a[i][i]\n",
        "\n",
        "    return x"
      ],
      "metadata": {
        "id": "iJfNRuJvBSYp"
      },
      "execution_count": null,
      "outputs": []
    },
    {
      "cell_type": "code",
      "source": [
        "h = 0.005\n",
        "l = 0.025\n",
        "u = 67967200.0\n",
        "k = 35\n",
        "Tf = 293.15\n",
        "g= ((-h**2) * (u/k))"
      ],
      "metadata": {
        "id": "7thKJ45xrJMY"
      },
      "execution_count": null,
      "outputs": []
    },
    {
      "cell_type": "code",
      "source": [
        "def analitica(x):\n",
        "  return Tf + (u*(l**2)/(2*k))* (1-(x/l)**2) "
      ],
      "metadata": {
        "id": "TkDjeFChtQzo"
      },
      "execution_count": null,
      "outputs": []
    },
    {
      "cell_type": "code",
      "source": [
        "print(analitica(0))"
      ],
      "metadata": {
        "colab": {
          "base_uri": "https://localhost:8080/"
        },
        "id": "W0T2IYQRtm8d",
        "outputId": "d87e6afe-92c3-4ec2-ff3a-5f866b64fd23"
      },
      "execution_count": null,
      "outputs": [
        {
          "output_type": "stream",
          "name": "stdout",
          "text": [
            "900.0000000000001\n"
          ]
        }
      ]
    },
    {
      "cell_type": "code",
      "source": [
        "A = np.array([[-2.0, 2.0, 0.0, 0.0, 0.0], [1.0, -2.0, 1.0, 0.0, 0.0], [0.0, 1.0, -2.0, 1.0, 0.0], [0.0, 0.0, 1.0, -2.0, 1.0], [0.0, 0.0, 0.0, 1.0, -2.0]])\n",
        "b = np.array([g, g, g, g, g-Tf])"
      ],
      "metadata": {
        "id": "GEwB5YlMpnFE"
      },
      "execution_count": null,
      "outputs": []
    },
    {
      "cell_type": "code",
      "source": [
        "sym.Matrix(gaussian_elimination(A, b))"
      ],
      "metadata": {
        "colab": {
          "base_uri": "https://localhost:8080/",
          "height": 120
        },
        "id": "lBQDvsgbve8D",
        "outputId": "6535554f-20a2-41a4-fca4-bdd7c67464b8"
      },
      "execution_count": null,
      "outputs": [
        {
          "output_type": "execute_result",
          "data": {
            "text/plain": [
              "Matrix([\n",
              "[  900.0],\n",
              "[875.726],\n",
              "[802.904],\n",
              "[681.534],\n",
              "[511.616]])"
            ],
            "text/latex": "$\\displaystyle \\left[\\begin{matrix}900.0\\\\875.726\\\\802.904\\\\681.534\\\\511.616\\end{matrix}\\right]$"
          },
          "metadata": {},
          "execution_count": 48
        }
      ]
    },
    {
      "cell_type": "code",
      "source": [
        "x = sym.Matrix(gaussian_elimination(A, b))"
      ],
      "metadata": {
        "id": "Nn-qZSXP0oJR"
      },
      "execution_count": null,
      "outputs": []
    },
    {
      "cell_type": "code",
      "source": [
        "Analitica = [analitica(0), analitica(h), analitica(2*h), analitica(3*h), analitica(4*h)]\n",
        "sym.Matrix(Analitica)"
      ],
      "metadata": {
        "colab": {
          "base_uri": "https://localhost:8080/",
          "height": 120
        },
        "id": "fkOtLWZ8xeKb",
        "outputId": "c6e8c19a-41e9-48ae-dda4-895028204422"
      },
      "execution_count": null,
      "outputs": [
        {
          "output_type": "execute_result",
          "data": {
            "text/plain": [
              "Matrix([\n",
              "[  900.0],\n",
              "[875.726],\n",
              "[802.904],\n",
              "[681.534],\n",
              "[511.616]])"
            ],
            "text/latex": "$\\displaystyle \\left[\\begin{matrix}900.0\\\\875.726\\\\802.904\\\\681.534\\\\511.616\\end{matrix}\\right]$"
          },
          "metadata": {},
          "execution_count": 38
        }
      ]
    },
    {
      "cell_type": "markdown",
      "source": [
        "Solucao Analitica e o metodo direto da eliminacao gaussiana retornaram vetores iguais. Entao erro nao existe."
      ],
      "metadata": {
        "id": "5TFIcI3s2Ev8"
      }
    },
    {
      "cell_type": "code",
      "source": [],
      "metadata": {
        "id": "Z-KT3C8H2V8V"
      },
      "execution_count": null,
      "outputs": []
    }
  ]
}