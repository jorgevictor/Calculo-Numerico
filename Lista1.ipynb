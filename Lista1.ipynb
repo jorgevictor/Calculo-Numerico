{
  "nbformat": 4,
  "nbformat_minor": 0,
  "metadata": {
    "colab": {
      "provenance": [],
      "collapsed_sections": []
    },
    "kernelspec": {
      "name": "python3",
      "display_name": "Python 3"
    },
    "language_info": {
      "name": "python"
    }
  },
  "cells": [
    {
      "cell_type": "code",
      "execution_count": null,
      "metadata": {
        "id": "aJfiJGMggCXO"
      },
      "outputs": [],
      "source": [
        "import sympy as sym\n",
        "import numpy as np\n",
        "import math"
      ]
    },
    {
      "cell_type": "code",
      "source": [
        "# Variaveis globais\n",
        "e = 10 ** (-7)\n",
        "a = 2.0\n",
        "b = 3.0\n",
        "tolerancia = 10 ** (-7)"
      ],
      "metadata": {
        "id": "uti8PjEhtfdL"
      },
      "execution_count": null,
      "outputs": []
    },
    {
      "cell_type": "code",
      "source": [
        "# Funcoes globais\n",
        "def f(x):\n",
        "  return x * math.log10(x) - 1\n",
        "\n",
        "def derivada(x):\n",
        "  return (math.log(x) + 1) / math.log(10)\n",
        "\n",
        "def f3(x):\n",
        "  return x ** 3 - 2 * x + 2\n",
        "  \n",
        "def derivada3(x):\n",
        "  return 3 * x ** 2 - 2\n",
        "\n"
      ],
      "metadata": {
        "id": "F1yPlhMVtftb"
      },
      "execution_count": null,
      "outputs": []
    },
    {
      "cell_type": "markdown",
      "source": [
        "metodo da bissecao"
      ],
      "metadata": {
        "id": "k0vCsjQtwEuy"
      }
    },
    {
      "cell_type": "code",
      "source": [
        "def metodo_bissecao(a, b):\n",
        "    i = 0\n",
        "    if f(a) * f(b) < 0:\n",
        "        while math.fabs(b - a) / 2 >= e:\n",
        "            i += 1\n",
        "            k = (a + b) / 2\n",
        "            if f(k) == 0:\n",
        "                print(f\"A raiz é {k}\")\n",
        "                break\n",
        "            else:\n",
        "                if f(a) * f(k) < 0:\n",
        "                    b = k\n",
        "                else:\n",
        "                    a = k\n",
        "        print(f\"Número total de iterações: {i}\\nValor da raiz: {k}\\nMódulo da função: {abs(f(a)):5.16f}\")\n",
        "    else:\n",
        "        print(\"Não há raiz nesse intervalo\")"
      ],
      "metadata": {
        "id": "tuk8YTOjwGga"
      },
      "execution_count": null,
      "outputs": []
    },
    {
      "cell_type": "code",
      "source": [
        "metodo_bissecao(a, b)"
      ],
      "metadata": {
        "colab": {
          "base_uri": "https://localhost:8080/"
        },
        "id": "ieMfFJEDwGy7",
        "outputId": "12e7f069-9284-484d-a1ac-7965c06e614c"
      },
      "execution_count": null,
      "outputs": [
        {
          "output_type": "stream",
          "name": "stdout",
          "text": [
            "Número total de iterações: 23\n",
            "Valor da raiz: 2.506184220314026\n",
            "Módulo da função: 0.0000000370688764\n"
          ]
        }
      ]
    },
    {
      "cell_type": "markdown",
      "source": [
        "metodo da falsa posicao"
      ],
      "metadata": {
        "id": "ULEDsfcPzYaz"
      }
    },
    {
      "cell_type": "code",
      "source": [
        "def metodo_falsa_posicao(a, b):\n",
        "    i = 0\n",
        "    if f(a) * f(b) < 0:\n",
        "        while math.fabs(b - a) / 2 >= e:\n",
        "            i += 1\n",
        "            k = ((a * f(b)) - (b * f(a))) / (f(b) - f(a))\n",
        "            if f(k) == 0:\n",
        "                break\n",
        "            else:\n",
        "                if f(a) * f(k) < 0:\n",
        "                    b = k\n",
        "                else:\n",
        "                    a = k\n",
        "    \n",
        "        print(f\"Número total de iterações: {i}\\nValor da raiz: {k}\\nMódulo da função: {abs(f(a)):5.32f}\")\n",
        "    else:\n",
        "        print(\"Não há raiz nesse intervalo\")"
      ],
      "metadata": {
        "id": "d9zKT1F_zbqP"
      },
      "execution_count": null,
      "outputs": []
    },
    {
      "cell_type": "code",
      "source": [
        "metodo_falsa_posicao(a, b)"
      ],
      "metadata": {
        "colab": {
          "base_uri": "https://localhost:8080/"
        },
        "id": "XYjSUKcKjnDz",
        "outputId": "dcd26eaa-0697-41fc-eaf9-7975412358df"
      },
      "execution_count": null,
      "outputs": [
        {
          "output_type": "stream",
          "name": "stdout",
          "text": [
            "Número total de iterações: 12\n",
            "Valor da raiz: 2.5061841455887692\n",
            "Módulo da função: 0.00000000000000033306690738754696\n"
          ]
        }
      ]
    },
    {
      "cell_type": "markdown",
      "source": [
        "metodo de newton raphson"
      ],
      "metadata": {
        "id": "NfWniAukzmBL"
      }
    },
    {
      "cell_type": "code",
      "source": [
        "def metodo_newton_Raphson(a, b):\n",
        "    contador = 0\n",
        "    while (b - a) >= tolerancia:\n",
        "        x = a - (f(a) / derivada(a))\n",
        "        contador = contador + 1\n",
        "        if (f(x) == 0):\n",
        "            break\n",
        "        if contador == 100:\n",
        "            break\n",
        "\n",
        "        else:\n",
        "            a = x\n",
        "    print(f'A Raiz pelo metodo Newton Raphson é {x} e o módulo f(x) é {abs(f(a)):5.32f}'\n",
        "          f' houveram {contador} iterações\\n')"
      ],
      "metadata": {
        "id": "JaxtukifzmIs"
      },
      "execution_count": null,
      "outputs": []
    },
    {
      "cell_type": "code",
      "source": [
        "metodo_newton_Raphson(a, b)"
      ],
      "metadata": {
        "colab": {
          "base_uri": "https://localhost:8080/"
        },
        "id": "XUJ9yUlCzmRH",
        "outputId": "4b327f06-2ca2-487b-c16b-ea1547b7fc4a"
      },
      "execution_count": null,
      "outputs": [
        {
          "output_type": "stream",
          "name": "stdout",
          "text": [
            "A Raiz pelo metodo Newton Raphson é 2.5061841455887692 e o módulo f(x) é 0.00000000135883371221723336930154 houveram 4 iterações\n",
            "\n"
          ]
        }
      ]
    },
    {
      "cell_type": "markdown",
      "source": [
        "metodo das secantes"
      ],
      "metadata": {
        "id": "UEn7rA-Mj11W"
      }
    },
    {
      "cell_type": "code",
      "source": [
        "def metodo_secantes(a, b):\n",
        "\n",
        "    contador = 0\n",
        "    while (b - a) >= tolerancia:\n",
        "        x = (a * f(b) - b * f(a)) / (f(b) - f(a))\n",
        "        contador = contador + 1\n",
        "        if f(x) == 0:\n",
        "            print(f'raiz encontrada')\n",
        "            break\n",
        "        if contador == 100:\n",
        "            break\n",
        "        else:\n",
        "            b = x\n",
        "    print(f'A Raiz pelo metodo das secantes é {x} e o módulo f(x) é {abs(f(a)):5.32f}'\n",
        "          f' houveram {contador} iterações\\n')"
      ],
      "metadata": {
        "id": "2aNJaUkiCC3I"
      },
      "execution_count": null,
      "outputs": []
    },
    {
      "cell_type": "code",
      "source": [
        "metodo_secantes(a, b)"
      ],
      "metadata": {
        "colab": {
          "base_uri": "https://localhost:8080/"
        },
        "id": "vhhXf0r2CC5G",
        "outputId": "a1c19bfc-176a-4726-d371-14ceb1383e47"
      },
      "execution_count": null,
      "outputs": [
        {
          "output_type": "stream",
          "name": "stdout",
          "text": [
            "raiz encontrada\n",
            "A Raiz pelo metodo das secantes é 2.5061841455887692 e o módulo f(x) é 0.39794000867203760396506595498067 houveram 13 iterações\n",
            "\n"
          ]
        }
      ]
    },
    {
      "cell_type": "markdown",
      "source": [
        "Questao 3"
      ],
      "metadata": {
        "id": "fMX79FvxlvVq"
      }
    },
    {
      "cell_type": "code",
      "source": [
        "x0 = 1.0\n",
        "i = 0\n",
        "while i < 5:\n",
        "  xi = x0 - f3(x0) / derivada3(x0)\n",
        "  print(f\"Iteração: {i}     x({i}): {x0}     f(x({i})): {math.fabs(f3(x0))}\")\n",
        "  x0 = xi\n",
        "  i += 1"
      ],
      "metadata": {
        "colab": {
          "base_uri": "https://localhost:8080/"
        },
        "id": "d_EG7kzptIEI",
        "outputId": "8cfda8eb-ae6a-4deb-a267-d28a86ed2f4a"
      },
      "execution_count": null,
      "outputs": [
        {
          "output_type": "stream",
          "name": "stdout",
          "text": [
            "Iteração: 0     x(0): 1.0     f(x(0)): 1.0\n",
            "Iteração: 1     x(1): 0.0     f(x(1)): 2.0\n",
            "Iteração: 2     x(2): 1.0     f(x(2)): 1.0\n",
            "Iteração: 3     x(3): 0.0     f(x(3)): 2.0\n",
            "Iteração: 4     x(4): 1.0     f(x(4)): 1.0\n"
          ]
        }
      ]
    },
    {
      "cell_type": "markdown",
      "source": [
        "3) As iterações de x alternam entre 0 e 1, não convergindo para uma raíz, entrando em um ciclo infinito. Isso ocorre, pois, para a função dada, esse ciclo infinito é estável, pois existem vizinhanças em torno de 0 e 1, nas quais todos os outros pontos iteram assintoticamente para esse ciclo. De forma que não convergem para a raíz da função."
      ],
      "metadata": {
        "id": "G6QjqUuXvnsp"
      }
    },
    {
      "cell_type": "markdown",
      "source": [
        "Questao 4.1"
      ],
      "metadata": {
        "id": "2BAbPl0ByuoH"
      }
    },
    {
      "cell_type": "code",
      "source": [
        "def f_convergente(x):\n",
        "  return x ** 3 - 2 * x + 1\n",
        "\n",
        "def f_divergente(x):\n",
        "  return x ** 3 - 2 * x + 2\n",
        "\n",
        "\n",
        "def f_linha(x):\n",
        "  return 3 * x ** 2 - 2\n",
        "\n",
        "x0 = 1.0\n",
        "\n",
        "derivadaFixa = 3 * 1 ** 2 - 2\n",
        "\n",
        "print(\"funcao convergente\")\n",
        "i = 0\n",
        "while i < 5:\n",
        "  xi = x0 - f_convergente(x0) / derivadaFixa\n",
        "  print(f\"Iteração: {i}     x({i}): {x0}     f(x({i})): {math.fabs(f_convergente(x0))}\")\n",
        "  x0 = xi\n",
        "  i += 1\n",
        "\n",
        "print(\"-------------------------------------------\\n\")\n",
        "\n",
        "print(\"funcao divergente\")\n",
        "j = 0\n",
        "while j < 5:\n",
        "  xi = x0 - f_divergente(x0) / derivadaFixa\n",
        "  print(f\"Iteração: {j}     x({j}): {x0}     f(x({j})): {math.fabs(f_divergente(x0))}\")\n",
        "  x0 = xi\n",
        "  j += 1\n",
        "\n"
      ],
      "metadata": {
        "colab": {
          "base_uri": "https://localhost:8080/"
        },
        "id": "m3cflJwYy160",
        "outputId": "5237f2df-a2bd-4ca8-d7af-95186d855c75"
      },
      "execution_count": null,
      "outputs": [
        {
          "output_type": "stream",
          "name": "stdout",
          "text": [
            "funcao convergente\n",
            "Iteração: 0     x(0): 1.0     f(x(0)): 0.0\n",
            "Iteração: 1     x(1): 1.0     f(x(1)): 0.0\n",
            "Iteração: 2     x(2): 1.0     f(x(2)): 0.0\n",
            "Iteração: 3     x(3): 1.0     f(x(3)): 0.0\n",
            "Iteração: 4     x(4): 1.0     f(x(4)): 0.0\n",
            "-------------------------------------------\n",
            "\n",
            "funcao divergente\n",
            "Iteração: 0     x(0): 1.0     f(x(0)): 1.0\n",
            "Iteração: 1     x(1): 0.0     f(x(1)): 2.0\n",
            "Iteração: 2     x(2): -2.0     f(x(2)): 2.0\n",
            "Iteração: 3     x(3): 0.0     f(x(3)): 2.0\n",
            "Iteração: 4     x(4): -2.0     f(x(4)): 2.0\n"
          ]
        }
      ]
    }
  ]
}